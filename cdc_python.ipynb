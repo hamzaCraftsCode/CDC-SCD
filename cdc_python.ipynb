{
  "nbformat": 4,
  "nbformat_minor": 0,
  "metadata": {
    "colab": {
      "provenance": []
    },
    "kernelspec": {
      "name": "python3",
      "display_name": "Python 3"
    },
    "language_info": {
      "name": "python"
    }
  },
  "cells": [
    {
      "cell_type": "markdown",
      "source": [
        "---\n",
        "title: \"Change Data Capture (CDC) using Pandas\"\n",
        "\n",
        "description: \"This notebook demonstrates how to implement Change Data Capture (CDC) using pandas to capture inserts, updates, and deletions between two datasets.\"\n",
        "\n",
        "---"
      ],
      "metadata": {
        "id": "PTz6HBpLuTRB"
      }
    },
    {
      "cell_type": "markdown",
      "source": [
        "# ## **Step 1: Import Required Libraries**\n",
        "# Import the pandas library for data manipulation"
      ],
      "metadata": {
        "id": "dFttXMvmuWAP"
      }
    },
    {
      "cell_type": "code",
      "source": [
        "import pandas as pd"
      ],
      "metadata": {
        "id": "4uf4qCykuToH"
      },
      "execution_count": 8,
      "outputs": []
    },
    {
      "cell_type": "markdown",
      "source": [
        "## **Step 2: Create Simulated \"Old\" and \"New\" DataFrames**\n",
        "We will create two DataFrames: one representing the \"old\" version and another representing the \"new\" version of the data.\n",
        "\n",
        "Old version of the dataset"
      ],
      "metadata": {
        "id": "38FZFlHRuZ1Y"
      }
    },
    {
      "cell_type": "code",
      "source": [
        "data_old = {\n",
        "    'id': [1, 2, 3, 4],\n",
        "    'name': ['Alice', 'Bob', 'Charlie', 'David'],\n",
        "    'age': [25, 30, 35, 40],\n",
        "    'city': ['New York', 'Los Angeles', 'Chicago', 'Houston']\n",
        "}\n",
        "df_old = pd.DataFrame(data_old)\n",
        "\n",
        "# Display the old DataFrame\n",
        "print(\"Old DataFrame:\")\n",
        "print(df_old)\n",
        "\n",
        "# New version of the dataset\n",
        "data_new = {\n",
        "    'id': [2, 3, 4, 5],\n",
        "    'name': ['Bob', 'Charlie', 'David', 'Eva'],\n",
        "    'age': [31, 35, 42, 22],  # Notice Bob's and David's ages have changed\n",
        "    'city': ['San Francisco', 'Chicago', 'Houston', 'Seattle']  # Notice Bob's city has changed\n",
        "}\n",
        "df_new = pd.DataFrame(data_new)\n",
        "\n",
        "# Display the new DataFrame\n",
        "print(\"\\n\\nNew DataFrame:\")\n",
        "print(df_new)"
      ],
      "metadata": {
        "colab": {
          "base_uri": "https://localhost:8080/"
        },
        "id": "vJF-4Sg2uXka",
        "outputId": "6c2bc309-b08d-4efd-dd0b-4b1291213568"
      },
      "execution_count": 13,
      "outputs": [
        {
          "output_type": "stream",
          "name": "stdout",
          "text": [
            "Old DataFrame:\n",
            "   id     name  age         city\n",
            "0   1    Alice   25     New York\n",
            "1   2      Bob   30  Los Angeles\n",
            "2   3  Charlie   35      Chicago\n",
            "3   4    David   40      Houston\n",
            "\n",
            "\n",
            "New DataFrame:\n",
            "   id     name  age           city\n",
            "0   2      Bob   31  San Francisco\n",
            "1   3  Charlie   35        Chicago\n",
            "2   4    David   42        Houston\n",
            "3   5      Eva   22        Seattle\n"
          ]
        }
      ]
    },
    {
      "cell_type": "markdown",
      "source": [
        "## **Step 3: Identify Inserts, Updates, and Deletions**\n",
        "### **Step 3a: Identify Insertions**\n",
        "Rows present in the \"new\" DataFrame but not in the \"old\" DataFrame\n"
      ],
      "metadata": {
        "id": "We7-bfAnu3HQ"
      }
    },
    {
      "cell_type": "code",
      "source": [
        "df_inserts = df_new[~df_new['id'].isin(df_old['id'])]\n",
        "print(\"Inserts:\\n\", df_inserts)"
      ],
      "metadata": {
        "colab": {
          "base_uri": "https://localhost:8080/"
        },
        "id": "afykg1h-ubpF",
        "outputId": "c67b6a16-298b-4698-e8ce-0234c9b99bb3"
      },
      "execution_count": 14,
      "outputs": [
        {
          "output_type": "stream",
          "name": "stdout",
          "text": [
            "Inserts:\n",
            "    id name  age     city\n",
            "3   5  Eva   22  Seattle\n"
          ]
        }
      ]
    },
    {
      "cell_type": "markdown",
      "source": [
        "### **Step 3b: Identify Deletions**\n",
        "Rows present in the \"old\" DataFrame but not in the \"new\" DataFrame\n"
      ],
      "metadata": {
        "id": "s1ZE2QUeu8oB"
      }
    },
    {
      "cell_type": "code",
      "source": [
        "df_deletes = df_old[~df_old['id'].isin(df_new['id'])]\n",
        "print(\"\\nDeletions:\\n\", df_deletes)"
      ],
      "metadata": {
        "colab": {
          "base_uri": "https://localhost:8080/"
        },
        "id": "WSHPFO3Ou63d",
        "outputId": "9c3cb995-397a-469c-b577-7e6d02d929b9"
      },
      "execution_count": 15,
      "outputs": [
        {
          "output_type": "stream",
          "name": "stdout",
          "text": [
            "\n",
            "Deletions:\n",
            "    id   name  age      city\n",
            "0   1  Alice   25  New York\n"
          ]
        }
      ]
    },
    {
      "cell_type": "markdown",
      "source": [
        "### **Step 3c: Identify Updates**\n",
        "To capture updates, merge the two DataFrames on the primary key (`id`) and compare columns.\n",
        "\n",
        "Merging old and new datasets on 'id' to compare changes\n"
      ],
      "metadata": {
        "id": "ifVfyejwvHts"
      }
    },
    {
      "cell_type": "code",
      "source": [
        "df_merged = pd.merge(df_old, df_new, on='id', suffixes=('_old', '_new'))\n",
        "\n",
        "# Identifying rows where any column values differ between old and new\n",
        "df_updates = df_merged[(df_merged['name_old'] != df_merged['name_new']) |\n",
        "                       (df_merged['age_old'] != df_merged['age_new']) |\n",
        "                       (df_merged['city_old'] != df_merged['city_new'])]\n",
        "\n",
        "print(\"\\nUpdates:\\n\", df_updates)"
      ],
      "metadata": {
        "colab": {
          "base_uri": "https://localhost:8080/"
        },
        "id": "Z20NQ-kAu_iV",
        "outputId": "4b8a4b7e-7272-4e26-95f8-dc8f6ab511f4"
      },
      "execution_count": 17,
      "outputs": [
        {
          "output_type": "stream",
          "name": "stdout",
          "text": [
            "\n",
            "Updates:\n",
            "    id name_old  age_old     city_old name_new  age_new       city_new\n",
            "0   2      Bob       30  Los Angeles      Bob       31  San Francisco\n",
            "2   4    David       40      Houston    David       42        Houston\n"
          ]
        }
      ]
    },
    {
      "cell_type": "markdown",
      "source": [
        "## **Step 4: Display the Captured Changes**\n",
        "Summarizing all changes identified\n"
      ],
      "metadata": {
        "id": "OXJbhfZJvP4o"
      }
    },
    {
      "cell_type": "code",
      "source": [
        "print(\"\\nSummary of Changes:\")\n",
        "print(\"\\nInserts:\\n\", df_inserts)\n",
        "print(\"\\nDeletions:\\n\", df_deletes)\n",
        "print(\"\\nUpdates:\\n\", df_updates)"
      ],
      "metadata": {
        "colab": {
          "base_uri": "https://localhost:8080/"
        },
        "id": "SUmfNmnRvLD1",
        "outputId": "95a94bde-49ff-440e-951d-9aee9b29bf12"
      },
      "execution_count": 18,
      "outputs": [
        {
          "output_type": "stream",
          "name": "stdout",
          "text": [
            "\n",
            "Summary of Changes:\n",
            "\n",
            "Inserts:\n",
            "    id name  age     city\n",
            "3   5  Eva   22  Seattle\n",
            "\n",
            "Deletions:\n",
            "    id   name  age      city\n",
            "0   1  Alice   25  New York\n",
            "\n",
            "Updates:\n",
            "    id name_old  age_old     city_old name_new  age_new       city_new\n",
            "0   2      Bob       30  Los Angeles      Bob       31  San Francisco\n",
            "2   4    David       40      Houston    David       42        Houston\n"
          ]
        }
      ]
    },
    {
      "cell_type": "code",
      "source": [],
      "metadata": {
        "id": "qpUvysSUvTt1"
      },
      "execution_count": null,
      "outputs": []
    }
  ]
}